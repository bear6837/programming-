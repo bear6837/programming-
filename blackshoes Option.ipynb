{
 "cells": [
  {
   "cell_type": "code",
   "execution_count": 35,
   "metadata": {
    "collapsed": false
   },
   "outputs": [],
   "source": [
    "class BlackSholes:\n",
    "    \n",
    "    def __init__(self, S0, K, T, r, Sigma, d1, d2, div = 0):\n",
    "        self.S0 = S0  \n",
    "        self.K = K \n",
    "        self.T = T  \n",
    "        self.r = r\n",
    "        self.Sigma = Sigma\n",
    "        self.d1 = d1\n",
    "        self.d2 = d2\n",
    "        self.div = div\n",
    "    \n",
    "    def Call_Value_CF(self):\n",
    "        from math import log, sqrt, exp\n",
    "        from scipy import stats\n",
    "        C0 = (S0 * stats.norm.cdf(d1, 0, 1)) - K * exp(-r * T) * stats.norm.cdf(d2, 0, 1)\n",
    "        ValMethod = 'CF'\n",
    "        self.display(ValMethod, C0)\n",
    "        \n",
    "    def Put_Value_PF(self):\n",
    "        from math import log, sqrt, exp\n",
    "        from scipy import stats\n",
    "        C0 =  K * exp(-r * T) * stats.norm.cdf(-d2, 0, 1)-(S0 * stats.norm.cdf(-d1, 0, 1))  \n",
    "        ValMethod = 'PF'\n",
    "        self.display(ValMethod, C0)\n",
    "\n",
    "    def display(self, ValMethod, C0):\n",
    "        if ValMethod == 'CF':\n",
    "            print('Call (' + ValMethod + '): ' + str(C0))\n",
    "        elif ValMethod == 'PF':\n",
    "            print('Put (' + ValMethod + '):' +str(C0))"
   ]
  },
  {
   "cell_type": "code",
   "execution_count": 38,
   "metadata": {
    "collapsed": false
   },
   "outputs": [
    {
     "name": "stdout",
     "output_type": "stream",
     "text": [
      "Call (CF): 8.02135223514\n",
      "Put (PF):7.90044180772\n",
      "d1 :0.10604917915283975\n",
      "d2 :-0.09395082084716028\n"
     ]
    }
   ],
   "source": [
    "S0 = 100\n",
    "K = 105\n",
    "T = 1\n",
    "r = 0.05\n",
    "Sigma = 0.2\n",
    "from math import log, sqrt, exp\n",
    "d1=(log(S0 / K) + (r + 0.5 * Sigma ** 2) * T) / (Sigma * sqrt(T))\n",
    "d2=(log(S0 / K) + (r - 0.5 * Sigma ** 2) * T) / (Sigma * sqrt(T))\n",
    "\n",
    "BS = BlackSholes(S0, K, T, r, Sigma, d1, d2)\n",
    "BS.Call_Value_CF()\n",
    "BS.Put_Value_PF()\n",
    "print ('d1 :' + str(d1))\n",
    "print ('d2 :' + str(d2))"
   ]
  },
  {
   "cell_type": "code",
   "execution_count": null,
   "metadata": {
    "collapsed": true
   },
   "outputs": [],
   "source": []
  }
 ],
 "metadata": {
  "kernelspec": {
   "display_name": "Python 3",
   "language": "python",
   "name": "python3"
  },
  "language_info": {
   "codemirror_mode": {
    "name": "ipython",
    "version": 3
   },
   "file_extension": ".py",
   "mimetype": "text/x-python",
   "name": "python",
   "nbconvert_exporter": "python",
   "pygments_lexer": "ipython3",
   "version": "3.5.1"
  }
 },
 "nbformat": 4,
 "nbformat_minor": 0
}
